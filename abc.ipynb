{
 "cells": [
  {
   "cell_type": "code",
   "execution_count": 21,
   "metadata": {},
   "outputs": [
    {
     "name": "stdout",
     "output_type": "stream",
     "text": [
      "[[ 73.66544198  25.41874166 103.05838591  48.29538126  98.24972261\n",
      "   33.57004278 104.79706438  45.30718549  41.51786683  20.6766193\n",
      "   32.62450338]]\n",
      "[9]\n"
     ]
    }
   ],
   "source": [
    "import numpy as np\n",
    "import cv2\n",
    "from sklearn.cluster import KMeans\n",
    "import os\n",
    "from scipy.spatial.distance import cdist\n",
    "\n",
    "def average_BGR(image):\n",
    "    avg_blue = image[:,:,0].mean()\n",
    "    avg_green = image[:,:,1].mean()\n",
    "    avg_red = image[:,:,2].mean()\n",
    "\n",
    "    return [avg_blue,avg_green,avg_red]\n",
    "\n",
    "def average_HSV(image):\n",
    "    image = cv2.cvtColor(image,cv2.COLOR_BGR2HSV)\n",
    "    avg_hue = image[:,:,0].mean()\n",
    "    avg_saturation = image[:,:,1].mean()\n",
    "    avg_value = image[:,:,2].mean()\n",
    "\n",
    "    return avg_hue, avg_saturation, avg_value\n",
    "\n",
    "\n",
    "\n",
    "output_dir = 'D:\\PTIT\\CSDLDPT\\Multimedia-Database-System\\kmeans1'\n",
    "\n",
    "X1 = []\n",
    "image_path = os.path.join('D:\\PTIT\\CSDLDPT\\Multimedia-Database-System', 'Potato (07).jpg')\n",
    "image = cv2.imread(image_path)\n",
    "avg_HSV = average_HSV(image)\n",
    "X1.append(avg_HSV)\n",
    "\n",
    "os.chdir(output_dir)\n",
    "\n",
    "labels = np.loadtxt('cluster_labels.txt')\n",
    "centroids = np.loadtxt('cluster_center.txt')\n",
    "\n",
    "# print(len(np.unique(labels)))\n",
    "\n",
    "distance = cdist(X1, centroids, metric='euclidean')\n",
    "print(distance)\n",
    "argmin = np.argmin(distance, axis=1)\n",
    "print(argmin)"
   ]
  }
 ],
 "metadata": {
  "kernelspec": {
   "display_name": "Python 3",
   "language": "python",
   "name": "python3"
  },
  "language_info": {
   "codemirror_mode": {
    "name": "ipython",
    "version": 3
   },
   "file_extension": ".py",
   "mimetype": "text/x-python",
   "name": "python",
   "nbconvert_exporter": "python",
   "pygments_lexer": "ipython3",
   "version": "3.11.9"
  }
 },
 "nbformat": 4,
 "nbformat_minor": 2
}
