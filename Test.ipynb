{
 "cells": [
  {
   "cell_type": "code",
   "execution_count": 8,
   "metadata": {},
   "outputs": [],
   "source": [
    "import cv2 \n",
    "import numpy as np\n",
    "import matplotlib.pyplot as plt\n",
    "import os\n",
    "import pandas as pd # data processing, CSV file I/O (e.g. pd.read_csv)\n",
    "import time\n",
    "from sklearn.cluster import KMeans\n",
    "import pickle\n",
    "\n",
    "from scipy.spatial.distance import cdist"
   ]
  },
  {
   "cell_type": "code",
   "execution_count": 9,
   "metadata": {},
   "outputs": [],
   "source": [
    "def corvert_to_gray(image):\n",
    "    return cv2.cvtColor(image, cv2.COLOR_BGR2GRAY)\n",
    "\n",
    "def SIFT(image):\n",
    "    sift = cv2.SIFT_create()\n",
    "    _, descriptors = sift.detectAndCompute(image, None)\n",
    "    return  descriptors"
   ]
  },
  {
   "cell_type": "code",
   "execution_count": 10,
   "metadata": {},
   "outputs": [],
   "source": [
    "def kmeans_bow(all_descriptors, num_clusters):\n",
    "\n",
    "    bow_dict = []\n",
    "    kmeans = KMeans(n_clusters=num_clusters, verbose = 1).fit(all_descriptors)\n",
    "    bow_dict = kmeans.cluster_centers_\n",
    "    \n",
    "    return bow_dict"
   ]
  },
  {
   "cell_type": "code",
   "execution_count": 11,
   "metadata": {},
   "outputs": [],
   "source": [
    "path = 'D:\\PTIT\\CSDLDPT\\Multimedia-Database-System\\Mix'\n",
    "\n",
    "features = []\n",
    "image_features = []\n",
    "for dirname, _, filenames in os.walk(path):\n",
    "    for filename in filenames:\n",
    "        image = cv2.imread(os.path.join(dirname, filename))\n",
    "        gray = corvert_to_gray(image)\n",
    "        sift = SIFT(gray)\n",
    "        image_features.append(sift)\n",
    "        for i in sift:\n",
    "            features.append(i)"
   ]
  },
  {
   "cell_type": "code",
   "execution_count": null,
   "metadata": {},
   "outputs": [],
   "source": []
  },
  {
   "cell_type": "code",
   "execution_count": 12,
   "metadata": {},
   "outputs": [],
   "source": [
    "num_clusters = 50\n",
    "file_path = os.path.join(os.getcwd(), 'bow_dictionary.pkl')\n",
    "if not os.path.isfile(file_path):\n",
    "    BoW = kmeans_bow(features, num_clusters)\n",
    "    with open(file_path, 'wb') as file:\n",
    "        pickle.dump(BoW, file)\n",
    "else:\n",
    "    with open(file_path, 'rb') as file:\n",
    "            BoW = pickle.load(file)"
   ]
  },
  {
   "cell_type": "code",
   "execution_count": 13,
   "metadata": {},
   "outputs": [],
   "source": [
    "def create_features_bow(single_image_descriptors, BoW, num_clusters):\n",
    "    feature = np.array([0] * num_clusters)\n",
    "    if single_image_descriptors is not None:\n",
    "        distance = cdist(single_image_descriptors, BoW, metric='euclidean')\n",
    "        argmin = np.argmin(distance, axis=1)\n",
    "        for j in argmin:\n",
    "            feature[j] += 1\n",
    "    return feature"
   ]
  },
  {
   "cell_type": "code",
   "execution_count": 14,
   "metadata": {},
   "outputs": [
    {
     "name": "stdout",
     "output_type": "stream",
     "text": [
      "225\n"
     ]
    }
   ],
   "source": [
    "features = []\n",
    "\n",
    "\n",
    "for i in image_features:\n",
    "    feature = create_features_bow(i, BoW, num_clusters)\n",
    "    features.append(feature)\n",
    "\n",
    "\n"
   ]
  }
 ],
 "metadata": {
  "kernelspec": {
   "display_name": "xylyanh",
   "language": "python",
   "name": "python3"
  },
  "language_info": {
   "codemirror_mode": {
    "name": "ipython",
    "version": 3
   },
   "file_extension": ".py",
   "mimetype": "text/x-python",
   "name": "python",
   "nbconvert_exporter": "python",
   "pygments_lexer": "ipython3",
   "version": "3.11.9"
  }
 },
 "nbformat": 4,
 "nbformat_minor": 2
}
