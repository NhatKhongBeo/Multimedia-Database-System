{
 "cells": [
  {
   "cell_type": "code",
   "execution_count": null,
   "metadata": {},
   "outputs": [],
   "source": []
  },
  {
   "cell_type": "markdown",
   "metadata": {},
   "source": [
    "## Import lib"
   ]
  },
  {
   "cell_type": "code",
   "execution_count": null,
   "metadata": {},
   "outputs": [],
   "source": [
    "import cv2 as cv\n",
    "import os\n",
    "import matplotlib.pyplot as plt\n",
    "import numpy as np\n",
    "from feature import *"
   ]
  },
  {
   "cell_type": "markdown",
   "metadata": {},
   "source": [
    "### Load image file"
   ]
  },
  {
   "cell_type": "code",
   "execution_count": null,
   "metadata": {},
   "outputs": [],
   "source": [
    "image_path = \"D:\\\\Hoc\\\\Mutimedia database system\\\\System\\\\Multimedia-Database-System\\\\Banana (10).jpg\"\n",
    "image = cv.imread(image_path)"
   ]
  },
  {
   "cell_type": "code",
   "execution_count": null,
   "metadata": {},
   "outputs": [],
   "source": [
    "def Centers(file_path):\n",
    "    with open(file_path, \"r\") as file:\n",
    "        lines = file.readlines()\n",
    "        centers = []\n",
    "        for line in lines:\n",
    "            center = [float(x) for x in line.strip().split()]\n",
    "            centers.append(center)\n",
    "        return centers\n",
    "\n",
    "def euclidean_distance(vector1, vector2):\n",
    "    # Tính khoảng cách Euclidean giữa hai vector\n",
    "    return np.linalg.norm(vector1 - vector2)\n",
    "\n",
    "def find_Center(point, centers):\n",
    "    min_distance = float('inf')\n",
    "    closest_center = None\n",
    "    closest_index = -1\n",
    "    \n",
    "    for i,center in enumerate(centers):\n",
    "        \n",
    "        distance = euclidean_distance(point, center)\n",
    "        \n",
    "        if distance < min_distance:\n",
    "            min_distance = distance\n",
    "            closest_center = center\n",
    "            closest_index = i\n",
    "    \n",
    "    return closest_center, closest_index\n",
    "\n",
    "\n",
    "def find_cluster(point):\n",
    "    folder_path = \"\"\n",
    "    filename =\"cluster_centers.txt\"\n",
    "    file_path = os.path.join(folder_path, filename)\n",
    "    \n",
    "    while os.path.exists(file_path):\n",
    "        centers = Centers(file_path)\n",
    "        center, index = find_Center(point, centers)\n",
    "        \n",
    "        folder_path = folder_path+ \"/\"+ str(index.item())\n",
    "        file_path = os.path.join(folder_path, filename)\n",
    "    \n",
    "    return folder_path"
   ]
  },
  {
   "cell_type": "code",
   "execution_count": null,
   "metadata": {},
   "outputs": [],
   "source": [
    "def cosin_distance(vector1, vector2):\n",
    "    # Tính khoảng cách cosin giữa hai vector\n",
    "    return np.dot(vector1, vector2) / (np.linalg.norm(vector1) * np.linalg.norm(vector2))"
   ]
  },
  {
   "cell_type": "code",
   "execution_count": null,
   "metadata": {},
   "outputs": [],
   "source": [
    "image_HSV = average_HSV(image)\n",
    "\n",
    "cluster_path = find_cluster(image_HSV)\n",
    "\n",
    "image_feature = get_image_feature(image,cluster_path)\n",
    "\n",
    "metadata_path = os.path.join(cluster_path, \"metadata.txt\")\n",
    "\n",
    "metadata = {}\n",
    "\n",
    "with open(metadata_path,\"r\") as file:\n",
    "    for line in file:\n",
    "        key, value = line.strip().split(\": \",1)\n",
    "        key = key.strip()\n",
    "        value = value.strip()\n",
    "        \n",
    "        dict_value = eval(value)\n",
    "        \n",
    "        for key1,value1 in dict_value.items():\n",
    "            if isinstance(value1, list):\n",
    "                pass\n",
    "            else:\n",
    "                try:\n",
    "                    dict_value[key1] = float(value1)\n",
    "                except ValueError:\n",
    "                    pass\n",
    "                \n",
    "        metadata[key] = dict_value\n",
    "\n",
    "\n",
    "for key, value in metadata:\n",
    "    dict_tmp = metadata[key]\n",
    "    feature = dict_tmp['Bow']\n",
    "    distance = cosin_distance(image_feature, feature)\n",
    "    metadata[key]=distance\n",
    "\n",
    "sorted_metadata = sorted(metadata.items(), key=lambda x: x[1])[:3]\n",
    "\n",
    "fig, axes = plt.subplots(1, 3)\n",
    "\n",
    "for i,(path,_) in enumerate(sorted_metadata):\n",
    "    image = cv.imread(path)\n",
    "    image_rgb = cv.cvtColor(image, cv.COLOR_BGR2RGB)\n",
    "    axes[i].imshow(image_rgb)\n",
    "    axes[i].axis('off')\n",
    "    \n",
    "plt.show()\n"
   ]
  }
 ],
 "metadata": {
  "language_info": {
   "name": "python"
  }
 },
 "nbformat": 4,
 "nbformat_minor": 2
}
