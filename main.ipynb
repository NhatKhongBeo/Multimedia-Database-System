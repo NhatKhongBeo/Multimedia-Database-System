{
 "cells": [
  {
   "cell_type": "code",
   "execution_count": 1,
   "metadata": {},
   "outputs": [],
   "source": [
    "import cv2\n",
    "import matplotlib.pyplot as plt\n",
    "from mpl_toolkits.mplot3d import Axes3D\n",
    "import numpy as np\n",
    "import pandas as pd\n",
    "import os\n",
    "import shutil"
   ]
  },
  {
   "cell_type": "code",
   "execution_count": 2,
   "metadata": {},
   "outputs": [],
   "source": [
    "def average_BGR(image):\n",
    "    avg_blue = image[:,:,0].mean()\n",
    "    avg_green = image[:,:,1].mean()\n",
    "    avg_red = image[:,:,2].mean()\n",
    "\n",
    "    return [avg_blue,avg_green,avg_red]\n",
    "\n",
    "def average_HSV(image):\n",
    "    image = cv2.cvtColor(image,cv2.COLOR_BGR2HSV)\n",
    "    avg_hue = image[:,:,0].mean()\n",
    "    avg_saturation = image[:,:,1].mean()\n",
    "    avg_value = image[:,:,2].mean()\n",
    "\n",
    "    return avg_hue, avg_saturation, avg_value"
   ]
  },
  {
   "cell_type": "code",
   "execution_count": 6,
   "metadata": {},
   "outputs": [],
   "source": [
    "list_avg_blue = []\n",
    "list_avg_green = []\n",
    "list_avg_red = []\n",
    "\n",
    "list_avg_hue=[]\n",
    "list_avg_saturation=[]\n",
    "list_avg_value=[]\n",
    "X1 = []\n",
    "X2 = []\n",
    "list_image = []\n",
    "list_image_path=[]\n",
    "for dirname, _, filenames in os.walk('D:\\\\Nhat\\\\term_8\\\\MDS\\\\src\\\\Mix'):\n",
    "    for filename in filenames:\n",
    "        image_path = os.path.join(dirname, filename)\n",
    "        list_image_path.append(image_path)\n",
    "        image = cv2.imread(image_path)\n",
    "        list_image.append(image)\n",
    "        avg_BGR = average_BGR(image)\n",
    "        X1.append(avg_BGR)\n",
    "        list_avg_blue.append(avg_BGR[0])\n",
    "        list_avg_green.append(avg_BGR[1])\n",
    "        list_avg_red.append(avg_BGR[2])\n",
    "        avg_HSV= average_HSV(image)\n",
    "        list_avg_hue.append(avg_HSV[0])\n",
    "        list_avg_saturation.append(avg_HSV[1])\n",
    "        list_avg_value.append(avg_HSV[2])\n",
    "        X2.append(avg_HSV)"
   ]
  },
  {
   "cell_type": "code",
   "execution_count": 7,
   "metadata": {},
   "outputs": [
    {
     "name": "stderr",
     "output_type": "stream",
     "text": [
      "c:\\Users\\nhat2\\anaconda3\\envs\\khdl\\Lib\\site-packages\\sklearn\\cluster\\_kmeans.py:870: FutureWarning: The default value of `n_init` will change from 10 to 'auto' in 1.4. Set the value of `n_init` explicitly to suppress the warning\n",
      "  warnings.warn(\n",
      "c:\\Users\\nhat2\\anaconda3\\envs\\khdl\\Lib\\site-packages\\sklearn\\cluster\\_kmeans.py:1382: UserWarning: KMeans is known to have a memory leak on Windows with MKL, when there are less chunks than available threads. You can avoid it by setting the environment variable OMP_NUM_THREADS=1.\n",
      "  warnings.warn(\n"
     ]
    },
    {
     "name": "stdout",
     "output_type": "stream",
     "text": [
      "Centers found by scikit-learn:\n",
      "D:\\Nhat\\term_8\\MDS\\src\\Mix\\Avocado (07).jpg : 1\n",
      "D:\\Nhat\\term_8\\MDS\\src\\Mix\\Avocado (08).jpg : 1\n",
      "D:\\Nhat\\term_8\\MDS\\src\\Mix\\Avocado (09).jpg : 1\n",
      "D:\\Nhat\\term_8\\MDS\\src\\Mix\\Avocado (12).jpg : 1\n",
      "D:\\Nhat\\term_8\\MDS\\src\\Mix\\Avocado (13).jpg : 1\n",
      "D:\\Nhat\\term_8\\MDS\\src\\Mix\\Avocado (14).jpg : 1\n",
      "D:\\Nhat\\term_8\\MDS\\src\\Mix\\Cherry (01).jpg : 1\n",
      "D:\\Nhat\\term_8\\MDS\\src\\Mix\\Cherry (02).jpg : 1\n",
      "D:\\Nhat\\term_8\\MDS\\src\\Mix\\Cherry (03).jpg : 1\n",
      "D:\\Nhat\\term_8\\MDS\\src\\Mix\\Cherry (04).jpg : 1\n",
      "D:\\Nhat\\term_8\\MDS\\src\\Mix\\Cherry (05).jpg : 1\n",
      "D:\\Nhat\\term_8\\MDS\\src\\Mix\\Cherry (06).jpg : 1\n",
      "D:\\Nhat\\term_8\\MDS\\src\\Mix\\Cherry (07).jpg : 1\n",
      "D:\\Nhat\\term_8\\MDS\\src\\Mix\\Cherry (08).jpg : 1\n",
      "D:\\Nhat\\term_8\\MDS\\src\\Mix\\Cherry (09).jpg : 1\n",
      "D:\\Nhat\\term_8\\MDS\\src\\Mix\\Cherry (10).jpg : 1\n",
      "D:\\Nhat\\term_8\\MDS\\src\\Mix\\Cherry (11).jpg : 1\n",
      "D:\\Nhat\\term_8\\MDS\\src\\Mix\\Cherry (12).jpg : 1\n",
      "D:\\Nhat\\term_8\\MDS\\src\\Mix\\Cherry (13).jpg : 1\n",
      "D:\\Nhat\\term_8\\MDS\\src\\Mix\\Cherry (14).jpg : 1\n",
      "D:\\Nhat\\term_8\\MDS\\src\\Mix\\Cherry (15).jpg : 1\n",
      "D:\\Nhat\\term_8\\MDS\\src\\Mix\\Plum (01).jpg : 1\n",
      "D:\\Nhat\\term_8\\MDS\\src\\Mix\\Plum (02).jpg : 1\n",
      "D:\\Nhat\\term_8\\MDS\\src\\Mix\\Plum (03).jpg : 1\n",
      "D:\\Nhat\\term_8\\MDS\\src\\Mix\\Plum (04).jpg : 1\n",
      "D:\\Nhat\\term_8\\MDS\\src\\Mix\\Plum (05).jpg : 1\n",
      "D:\\Nhat\\term_8\\MDS\\src\\Mix\\Plum (06).jpg : 1\n",
      "D:\\Nhat\\term_8\\MDS\\src\\Mix\\Plum (07).jpg : 1\n",
      "D:\\Nhat\\term_8\\MDS\\src\\Mix\\Plum (08).jpg : 1\n",
      "D:\\Nhat\\term_8\\MDS\\src\\Mix\\Plum (09).jpg : 1\n",
      "D:\\Nhat\\term_8\\MDS\\src\\Mix\\Plum (10).jpg : 1\n",
      "D:\\Nhat\\term_8\\MDS\\src\\Mix\\Plum (11).jpg : 1\n",
      "D:\\Nhat\\term_8\\MDS\\src\\Mix\\Plum (12).jpg : 1\n",
      "D:\\Nhat\\term_8\\MDS\\src\\Mix\\Plum (13).jpg : 1\n",
      "D:\\Nhat\\term_8\\MDS\\src\\Mix\\Plum (14).jpg : 1\n",
      "D:\\Nhat\\term_8\\MDS\\src\\Mix\\Plum (15).jpg : 1\n"
     ]
    }
   ],
   "source": [
    "from sklearn.cluster import KMeans\n",
    "kmeans1 = KMeans(n_clusters=10,random_state =0)\n",
    "\n",
    "X1 = np.array(X1)\n",
    "\n",
    "kmeans1.fit(X1)\n",
    "\n",
    "\n",
    "print('Centers found by scikit-learn:')\n",
    "# print(kmeans1.cluster_centers_)\n",
    "pred_label = kmeans1.predict(X1)\n",
    "# print(pred_label)\n",
    "\n",
    "# for i in range(10):\n",
    "#     folder_name = str(i)\n",
    "#     os.mkdir(os.path.join('D:\\PTIT\\CSDLDPT\\Multimedia-Database-System\\kmeans1', folder_name))\n",
    "\n",
    "dict = {}\n",
    "\n",
    "for i in range(len(list_image_path)):\n",
    "    dict[list_image_path[i]] = pred_label[i]\n",
    "\n",
    "for key, value in dict.items():\n",
    "    for dirname, child_folders, filenames in os.walk('kmeans1'):\n",
    "        for folder in child_folders:\n",
    "            if str(value) == folder:\n",
    "                shutil.copy(key, os.path.join(dirname, folder))\n",
    "\n",
    "for key, value in dict.items():\n",
    "    if(value == 1):\n",
    "        print(key, ':', value)"
   ]
  },
  {
   "cell_type": "code",
   "execution_count": 9,
   "metadata": {},
   "outputs": [
    {
     "name": "stderr",
     "output_type": "stream",
     "text": [
      "c:\\Users\\nhat2\\anaconda3\\envs\\khdl\\Lib\\site-packages\\sklearn\\cluster\\_kmeans.py:870: FutureWarning: The default value of `n_init` will change from 10 to 'auto' in 1.4. Set the value of `n_init` explicitly to suppress the warning\n",
      "  warnings.warn(\n",
      "c:\\Users\\nhat2\\anaconda3\\envs\\khdl\\Lib\\site-packages\\sklearn\\cluster\\_kmeans.py:1382: UserWarning: KMeans is known to have a memory leak on Windows with MKL, when there are less chunks than available threads. You can avoid it by setting the environment variable OMP_NUM_THREADS=1.\n",
      "  warnings.warn(\n"
     ]
    },
    {
     "name": "stdout",
     "output_type": "stream",
     "text": [
      "Centers found by scikit-learn:\n",
      "[[ 23.445136    69.189504   143.026044  ]\n",
      " [ 21.64722    172.41603333 174.02270667]\n",
      " [ 40.60115    127.70924    100.65318   ]\n",
      " [ 26.08185789 102.46431579 196.67308947]\n",
      " [ 94.03787333  94.54522    107.35758   ]\n",
      " [ 18.71273333  52.06017222 223.29955   ]\n",
      " [ 73.93074667  15.49567333 165.48607333]\n",
      " [ 47.19972258  56.50966452 155.29217419]\n",
      " [ 23.34377778  91.30590741 170.39474074]\n",
      " [ 23.08768846  69.5241     198.84504615]\n",
      " [ 27.94625714  26.74230714 179.83395   ]]\n"
     ]
    }
   ],
   "source": [
    "kmeans2 = KMeans(n_clusters=11,random_state =0)\n",
    "\n",
    "X2 = np.array(X2)\n",
    "\n",
    "kmeans2.fit(X2)\n",
    "\n",
    "print('Centers found by scikit-learn:')\n",
    "print(kmeans2.cluster_centers_)"
   ]
  },
  {
   "cell_type": "code",
   "execution_count": 10,
   "metadata": {},
   "outputs": [
    {
     "ename": "NameError",
     "evalue": "name 'all_list_array' is not defined",
     "output_type": "error",
     "traceback": [
      "\u001b[1;31m---------------------------------------------------------------------------\u001b[0m",
      "\u001b[1;31mNameError\u001b[0m                                 Traceback (most recent call last)",
      "Cell \u001b[1;32mIn[10], line 4\u001b[0m\n\u001b[0;32m      2\u001b[0m result_pred_label2 \u001b[38;5;241m=\u001b[39m []\n\u001b[0;32m      3\u001b[0m \u001b[38;5;28;01mfor\u001b[39;00m i \u001b[38;5;129;01min\u001b[39;00m \u001b[38;5;28mrange\u001b[39m(\u001b[38;5;241m11\u001b[39m):\n\u001b[1;32m----> 4\u001b[0m   len_label \u001b[38;5;241m=\u001b[39m \u001b[38;5;28mlen\u001b[39m([key \u001b[38;5;28;01mfor\u001b[39;00m key,value1,value2,image \u001b[38;5;129;01min\u001b[39;00m \u001b[43mall_list_array\u001b[49m \u001b[38;5;28;01mif\u001b[39;00m key \u001b[38;5;241m==\u001b[39m i])\n\u001b[0;32m      5\u001b[0m   count \u001b[38;5;241m=\u001b[39m len_label\u001b[38;5;241m/\u001b[39m\u001b[38;5;241m/\u001b[39m\u001b[38;5;241m13\u001b[39m\n\u001b[0;32m      6\u001b[0m   \u001b[38;5;28;01mif\u001b[39;00m count \u001b[38;5;241m>\u001b[39m\u001b[38;5;241m1\u001b[39m:\n",
      "\u001b[1;31mNameError\u001b[0m: name 'all_list_array' is not defined"
     ]
    }
   ],
   "source": [
    "result = []\n",
    "result_pred_label2 = []\n",
    "for i in range(11):\n",
    "  len_label = len([key for key,value1,value2,image in all_list_array if key == i])\n",
    "  count = len_label//13\n",
    "  if count >1:\n",
    "    kmeans2_label1 = KMeans(n_clusters=count ,random_state =0)\n",
    "\n",
    "    result = [value2 for key,value1,value2,image in all_list_array if key == i]\n",
    "    result = np.array(result)\n",
    "\n",
    "    kmeans2_label1.fit(result)\n",
    "\n",
    "    print('Centers found by scikit-learn:')\n",
    "    print(kmeans2.cluster_centers_)\n",
    "    result_pred_label2 = (kmeans2_label1.predict(result))\n",
    "    # kmeans_display(result, result_pred_label2)\n",
    "    for index, (key1, key2, image, value1,value2) in enumerate(all_list_image):\n",
    "      for i in range(len(result_pred_label2)):\n",
    "          if (value2 == result[i]).all():\n",
    "              # Tạo một bản sao của tuple hiện tại\n",
    "              updated_tuple = list(all_list_image[index])\n",
    "              # Thay đổi giá trị của key2 trong danh sách\n",
    "              updated_tuple[1] = result_pred_label2[i]\n",
    "              # Chuyển đổi danh sách đã được cập nhật thành tuple và gán lại vào all_list_image\n",
    "              all_list_image[index] = tuple(updated_tuple)"
   ]
  },
  {
   "cell_type": "code",
   "execution_count": 11,
   "metadata": {},
   "outputs": [
    {
     "ename": "NameError",
     "evalue": "name 'all_list_image' is not defined",
     "output_type": "error",
     "traceback": [
      "\u001b[1;31m---------------------------------------------------------------------------\u001b[0m",
      "\u001b[1;31mNameError\u001b[0m                                 Traceback (most recent call last)",
      "Cell \u001b[1;32mIn[11], line 2\u001b[0m\n\u001b[0;32m      1\u001b[0m tmp \u001b[38;5;241m=\u001b[39m [[] \u001b[38;5;28;01mfor\u001b[39;00m _ \u001b[38;5;129;01min\u001b[39;00m \u001b[38;5;28mrange\u001b[39m(\u001b[38;5;241m11\u001b[39m)]\n\u001b[1;32m----> 2\u001b[0m \u001b[38;5;28;01mfor\u001b[39;00m key1, key2, image, value1, value2 \u001b[38;5;129;01min\u001b[39;00m \u001b[43mall_list_image\u001b[49m:\n\u001b[0;32m      3\u001b[0m   \u001b[38;5;28;01mif\u001b[39;00m key2 \u001b[38;5;241m!=\u001b[39m \u001b[38;5;28;01mNone\u001b[39;00m:\n\u001b[0;32m      4\u001b[0m     tmp[key1]\u001b[38;5;241m.\u001b[39mappend([key2,image,value1,value2])\n",
      "\u001b[1;31mNameError\u001b[0m: name 'all_list_image' is not defined"
     ]
    }
   ],
   "source": [
    "tmp = [[] for _ in range(11)]\n",
    "for key1, key2, image, value1, value2 in all_list_image:\n",
    "  if key2 != None:\n",
    "    tmp[key1].append([key2,image,value1,value2])\n",
    "\n",
    "for index, (i) in enumerate(tmp):\n",
    "  if len(i)>0:\n",
    "    print(index)\n",
    "    for key2,image,value1,value2 in i:\n",
    "      if key2==0:\n",
    "        print(image)\n",
    "    print()\n",
    "    for key2,image,value1,value2 in i:\n",
    "      if key2==1:\n",
    "        print(image)"
   ]
  }
 ],
 "metadata": {
  "kernelspec": {
   "display_name": "Python 3",
   "language": "python",
   "name": "python3"
  },
  "language_info": {
   "codemirror_mode": {
    "name": "ipython",
    "version": 3
   },
   "file_extension": ".py",
   "mimetype": "text/x-python",
   "name": "python",
   "nbconvert_exporter": "python",
   "pygments_lexer": "ipython3",
   "version": "3.11.5"
  }
 },
 "nbformat": 4,
 "nbformat_minor": 2
}
