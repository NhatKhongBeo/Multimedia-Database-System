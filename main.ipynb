{
 "cells": [
  {
   "cell_type": "code",
   "execution_count": null,
   "metadata": {},
   "outputs": [],
   "source": []
  },
  {
   "cell_type": "markdown",
   "metadata": {},
   "source": [
    "## Import lib"
   ]
  },
  {
   "cell_type": "code",
   "execution_count": null,
   "metadata": {},
   "outputs": [],
   "source": [
    "import cv2 as cv\n",
    "import os\n",
    "import numpy as np\n",
    "from feature import *"
   ]
  },
  {
   "cell_type": "markdown",
   "metadata": {},
   "source": [
    "### Load image file"
   ]
  },
  {
   "cell_type": "code",
   "execution_count": null,
   "metadata": {},
   "outputs": [],
   "source": [
    "image_path = \"\"\n",
    "image = cv.imread(image_path)"
   ]
  },
  {
   "cell_type": "code",
   "execution_count": null,
   "metadata": {},
   "outputs": [],
   "source": [
    "def Centers(file_path):\n",
    "    with open(file_path, \"r\") as file:\n",
    "        lines = file.readlines()\n",
    "        centers = []\n",
    "        for line in lines:\n",
    "            center = [float(x) for x in line.strip().split()]\n",
    "            centers.append(center)\n",
    "        return centers\n",
    "\n",
    "def euclidean_distance(vector1, vector2):\n",
    "    # Tính khoảng cách Euclidean giữa hai vector\n",
    "    return np.linalg.norm(vector1 - vector2)\n",
    "\n",
    "def find_Center(point, centers):\n",
    "    min_distance = float('inf')\n",
    "    closest_center = None\n",
    "    closest_index = -1\n",
    "    \n",
    "    for i,center in enumerate(centers):\n",
    "        \n",
    "        distance = euclidean_distance(point, center)\n",
    "        \n",
    "        if distance < min_distance:\n",
    "            min_distance = distance\n",
    "            closest_center = center\n",
    "            closest_index = i\n",
    "    \n",
    "    return closest_center, closest_index\n",
    "\n",
    "\n",
    "def find_cluster(point):\n",
    "    folder_path = \"\"\n",
    "    filename =\"cluster_centers.txt\"\n",
    "    file_path = os.path.join(folder_path, filename)\n",
    "    \n",
    "    while os.path.exists(file_path):\n",
    "        centers = Centers(file_path)\n",
    "        center, index = find_Center(point, centers)\n",
    "        \n",
    "        folder_path = folder_path+ \"/\"+ str(index.item())\n",
    "        file_path = os.path.join(folder_path, filename)\n",
    "    \n",
    "    return folder_path"
   ]
  },
  {
   "cell_type": "code",
   "execution_count": null,
   "metadata": {},
   "outputs": [],
   "source": [
    "image_HSV = average_HSV(image)\n",
    "\n",
    "cluster_path = find_cluster(image_HSV)\n",
    "\n",
    "image_feature = get_image_feature(image,cluster_path)\n",
    "\n",
    "list_image_feature = []\n",
    "\n",
    "\n",
    "\n",
    "\n",
    "\n",
    "\n"
   ]
  }
 ],
 "metadata": {
  "language_info": {
   "name": "python"
  }
 },
 "nbformat": 4,
 "nbformat_minor": 2
}
