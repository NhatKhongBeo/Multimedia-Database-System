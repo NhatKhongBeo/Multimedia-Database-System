{
 "cells": [
  {
   "cell_type": "markdown",
   "metadata": {},
   "source": [
    "## Import lib"
   ]
  },
  {
   "cell_type": "code",
   "execution_count": 1,
   "metadata": {},
   "outputs": [],
   "source": [
    "import cv2 as cv\n",
    "import os\n",
    "import matplotlib.pyplot as plt\n",
    "import numpy as np\n",
    "from feature import *"
   ]
  },
  {
   "cell_type": "markdown",
   "metadata": {},
   "source": [
    "### Load image file"
   ]
  },
  {
   "cell_type": "code",
   "execution_count": 2,
   "metadata": {},
   "outputs": [],
   "source": [
    "image_path = \"D:\\PTIT\\CSDLDPT\\Multimedia-Database-System\\Banana (10).jpg\"\n",
    "image = cv.imread(image_path)"
   ]
  },
  {
   "cell_type": "markdown",
   "metadata": {},
   "source": [
    "### Create and distance center distance"
   ]
  },
  {
   "cell_type": "code",
   "execution_count": 3,
   "metadata": {},
   "outputs": [],
   "source": [
    "def Centers(file_path):\n",
    "    with open(file_path, \"r\") as file:\n",
    "        lines = file.readlines()\n",
    "        centers = []\n",
    "        for line in lines:\n",
    "            center = [float(x) for x in line.strip().split()]\n",
    "            centers.append(center)\n",
    "        return centers\n",
    "\n",
    "def euclidean_distance(vector1, vector2):\n",
    "    # Tính khoảng cách Euclidean giữa hai vector\n",
    "    return np.linalg.norm(vector1 - vector2)\n",
    "\n",
    "def find_Center(point, centers):\n",
    "    min_distance = float('inf')\n",
    "    closest_center = None\n",
    "    closest_index = -1\n",
    "    \n",
    "    for i,center in enumerate(centers):\n",
    "        \n",
    "        distance = euclidean_distance(point, center)\n",
    "        \n",
    "        if distance < min_distance:\n",
    "            min_distance = distance\n",
    "            closest_center = center\n",
    "            closest_index = i\n",
    "    \n",
    "    return closest_center, closest_index"
   ]
  },
  {
   "cell_type": "markdown",
   "metadata": {},
   "source": [
    "### find cluster function"
   ]
  },
  {
   "cell_type": "code",
   "execution_count": 4,
   "metadata": {},
   "outputs": [],
   "source": [
    "def find_cluster(point):\n",
    "    folder_path = \"D:\\PTIT\\CSDLDPT\\Multimedia-Database-System\\Banana (10).jpg\"\n",
    "    filename =\"cluster_center.txt\"\n",
    "    file_path = os.path.join(folder_path, filename)\n",
    "    print(file_path)\n",
    "    print(os.path.exists(file_path))\n",
    "    while os.path.exists(file_path):\n",
    "        print(1)\n",
    "        centers = Centers(file_path)\n",
    "        center, index = find_Center(point, centers)\n",
    "        print(center,index)\n",
    "        folder_path = os.path.join(folder_path, str(index.item()))\n",
    "        file_path = os.path.join(folder_path, filename)\n",
    "    \n",
    "    return file_path"
   ]
  },
  {
   "cell_type": "markdown",
   "metadata": {},
   "source": [
    "### Cosine distance"
   ]
  },
  {
   "cell_type": "code",
   "execution_count": 5,
   "metadata": {},
   "outputs": [],
   "source": [
    "def cosin_distance(vector1, vector2):\n",
    "    # Tính khoảng cách cosin giữa hai vector\n",
    "    return np.dot(vector1, vector2) / (np.linalg.norm(vector1) * np.linalg.norm(vector2))"
   ]
  },
  {
   "cell_type": "markdown",
   "metadata": {},
   "source": [
    "### MAIN"
   ]
  },
  {
   "cell_type": "code",
   "execution_count": 6,
   "metadata": {},
   "outputs": [
    {
     "name": "stdout",
     "output_type": "stream",
     "text": [
      "D:\\PTIT\\CSDLDPT\\Multimedia-Database-System\\Banana (10).jpg\\cluster_center.txt\n",
      "False\n",
      "D:\\PTIT\\CSDLDPT\\Multimedia-Database-System\\Banana (10).jpg\\cluster_center.txt\n"
     ]
    },
    {
     "ename": "FileNotFoundError",
     "evalue": "[Errno 2] No such file or directory: 'D:\\\\PTIT\\\\CSDLDPT\\\\Multimedia-Database-System\\\\Banana (10).jpg\\\\cluster_center.txt\\\\bow_dictionary.pkl'",
     "output_type": "error",
     "traceback": [
      "\u001b[1;31m---------------------------------------------------------------------------\u001b[0m",
      "\u001b[1;31mFileNotFoundError\u001b[0m                         Traceback (most recent call last)",
      "Cell \u001b[1;32mIn[6], line 5\u001b[0m\n\u001b[0;32m      3\u001b[0m cluster_path \u001b[38;5;241m=\u001b[39m find_cluster(image_HSV)\n\u001b[0;32m      4\u001b[0m \u001b[38;5;28mprint\u001b[39m(cluster_path)\n\u001b[1;32m----> 5\u001b[0m image_feature \u001b[38;5;241m=\u001b[39m \u001b[43mget_image_feature\u001b[49m\u001b[43m(\u001b[49m\u001b[43mimage\u001b[49m\u001b[43m,\u001b[49m\u001b[43mcluster_path\u001b[49m\u001b[43m)\u001b[49m\n\u001b[0;32m      7\u001b[0m metadata_path \u001b[38;5;241m=\u001b[39m os\u001b[38;5;241m.\u001b[39mpath\u001b[38;5;241m.\u001b[39mjoin(cluster_path, \u001b[38;5;124m\"\u001b[39m\u001b[38;5;124mmetadata.txt\u001b[39m\u001b[38;5;124m\"\u001b[39m)\n\u001b[0;32m      9\u001b[0m metadata \u001b[38;5;241m=\u001b[39m {}\n",
      "File \u001b[1;32md:\\PTIT\\CSDLDPT\\Multimedia-Database-System\\feature.py:103\u001b[0m, in \u001b[0;36mget_image_feature\u001b[1;34m(image, folder_path)\u001b[0m\n\u001b[0;32m     99\u001b[0m sift \u001b[38;5;241m=\u001b[39m SIFT(gray)\n\u001b[0;32m    101\u001b[0m file_path \u001b[38;5;241m=\u001b[39m os\u001b[38;5;241m.\u001b[39mpath\u001b[38;5;241m.\u001b[39mjoin(folder_path, \u001b[38;5;124m\"\u001b[39m\u001b[38;5;124mbow_dictionary.pkl\u001b[39m\u001b[38;5;124m\"\u001b[39m)\n\u001b[1;32m--> 103\u001b[0m \u001b[38;5;28;01mwith\u001b[39;00m \u001b[38;5;28;43mopen\u001b[39;49m\u001b[43m(\u001b[49m\u001b[43mfile_path\u001b[49m\u001b[43m,\u001b[49m\u001b[43m \u001b[49m\u001b[38;5;124;43m\"\u001b[39;49m\u001b[38;5;124;43mrb\u001b[39;49m\u001b[38;5;124;43m\"\u001b[39;49m\u001b[43m)\u001b[49m \u001b[38;5;28;01mas\u001b[39;00m file:\n\u001b[0;32m    104\u001b[0m     BoW \u001b[38;5;241m=\u001b[39m pickle\u001b[38;5;241m.\u001b[39mload(file)\n\u001b[0;32m    106\u001b[0m feature \u001b[38;5;241m=\u001b[39m create_features_bow(sift, BoW, \u001b[38;5;241m30\u001b[39m)\n",
      "\u001b[1;31mFileNotFoundError\u001b[0m: [Errno 2] No such file or directory: 'D:\\\\PTIT\\\\CSDLDPT\\\\Multimedia-Database-System\\\\Banana (10).jpg\\\\cluster_center.txt\\\\bow_dictionary.pkl'"
     ]
    }
   ],
   "source": [
    "image_HSV = average_HSV(image)\n",
    "\n",
    "cluster_path = find_cluster(image_HSV)\n",
    "print(cluster_path)\n",
    "image_feature = get_image_feature(image,cluster_path)\n",
    "\n",
    "metadata_path = os.path.join(cluster_path, \"metadata.txt\")\n",
    "\n",
    "metadata = {}\n",
    "\n",
    "with open(metadata_path,\"r\") as file:\n",
    "    for line in file:\n",
    "        key, value = line.strip().split(\": \",1)\n",
    "        key = key.strip()\n",
    "        value = value.strip()\n",
    "        \n",
    "        dict_value = eval(value)\n",
    "        \n",
    "        for key1,value1 in dict_value.items():\n",
    "            if isinstance(value1, list):\n",
    "                pass\n",
    "            else:\n",
    "                try:\n",
    "                    dict_value[key1] = float(value1)\n",
    "                except ValueError:\n",
    "                    pass\n",
    "                \n",
    "        metadata[key] = dict_value\n",
    "\n",
    "\n",
    "for key, value in metadata:\n",
    "    dict_tmp = metadata[key]\n",
    "    feature = dict_tmp['Bow']\n",
    "    distance = cosin_distance(image_feature, feature)\n",
    "    metadata[key]=distance\n",
    "\n",
    "sorted_metadata = sorted(metadata.items(), key=lambda x: x[1])[:3]\n",
    "\n",
    "fig, axes = plt.subplots(1, 3)\n",
    "\n",
    "for i,(path,_) in enumerate(sorted_metadata):\n",
    "    image = cv.imread(path)\n",
    "    image_rgb = cv.cvtColor(image, cv.COLOR_BGR2RGB)\n",
    "    axes[i].imshow(image_rgb)\n",
    "    axes[i].axis('off')\n",
    "    \n",
    "plt.show()\n"
   ]
  },
  {
   "cell_type": "markdown",
   "metadata": {},
   "source": []
  }
 ],
 "metadata": {
  "kernelspec": {
   "display_name": "Python 3",
   "language": "python",
   "name": "python3"
  },
  "language_info": {
   "codemirror_mode": {
    "name": "ipython",
    "version": 3
   },
   "file_extension": ".py",
   "mimetype": "text/x-python",
   "name": "python",
   "nbconvert_exporter": "python",
   "pygments_lexer": "ipython3",
   "version": "3.11.9"
  }
 },
 "nbformat": 4,
 "nbformat_minor": 2
}
